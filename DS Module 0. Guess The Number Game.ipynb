{
 "cells": [
  {
   "cell_type": "code",
   "execution_count": 13,
   "metadata": {},
   "outputs": [
    {
     "name": "stdout",
     "output_type": "stream",
     "text": [
      "Ваш алгоритм угадывает число в среднем за 6 попыток\n"
     ]
    },
    {
     "data": {
      "text/plain": [
       "6"
      ]
     },
     "execution_count": 13,
     "metadata": {},
     "output_type": "execute_result"
    }
   ],
   "source": [
    "#Алгоритм, который угадывает число от 1 до 100 за\n",
    "#минимальное количество попыток.\n",
    "import numpy as np\n",
    "import random\n",
    "\n",
    "def game_core_v3(trial_number):\n",
    "\n",
    "    target_number = np.random.randint(1, 101) # задаем случайное число\n",
    "       \n",
    "    count = 1 #включаем счетчик попыток\n",
    "    trial_number = 0\n",
    "    min_number = 0\n",
    "    max_number = 100\n",
    "\n",
    "    if target_number == 100:\n",
    "        '''отдельно проверяем на равенство 100'''       \n",
    "        return(count) \n",
    "    else:\n",
    "        while trial_number != target_number:\n",
    "            count+=1\n",
    "            trial_number = int((min_number + max_number) / 2)\n",
    "            '''ищем среднее между двумя числами, в пределах которых\n",
    "            находится искомое число'''\n",
    "            if target_number > trial_number:\n",
    "                min_number = trial_number\n",
    "            else:\n",
    "                max_number = trial_number\n",
    "    return(count)\n",
    "\n",
    "def score_game(game_core):\n",
    "    '''Запускаем игру 1000 раз, чтобы узнать, как быстро игра угадывает число'''\n",
    "    count_ls = []\n",
    "    np.random.seed(1)  # фиксируем RANDOM SEED, чтобы ваш эксперимент был воспроизводим!\n",
    "    random_array = np.random.randint(1,101, size=(1000))\n",
    "    for number in random_array:\n",
    "        count_ls.append(game_core(number))\n",
    "    score = int(np.mean(count_ls))\n",
    "    print(f\"Ваш алгоритм угадывает число в среднем за {score} попыток\")\n",
    "    return(score)\n",
    "\n",
    "score_game(game_core_v3)\n"
   ]
  }
 ],
 "metadata": {
  "kernelspec": {
   "display_name": "Python 3",
   "language": "python",
   "name": "python3"
  },
  "language_info": {
   "codemirror_mode": {
    "name": "ipython",
    "version": 3
   },
   "file_extension": ".py",
   "mimetype": "text/x-python",
   "name": "python",
   "nbconvert_exporter": "python",
   "pygments_lexer": "ipython3",
   "version": "3.7.6"
  }
 },
 "nbformat": 4,
 "nbformat_minor": 4
}
